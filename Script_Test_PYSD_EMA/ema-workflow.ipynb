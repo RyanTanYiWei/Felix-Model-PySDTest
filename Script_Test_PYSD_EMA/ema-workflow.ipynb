{
 "cells": [
  {
   "cell_type": "code",
   "execution_count": 1,
   "metadata": {},
   "outputs": [
    {
     "name": "stderr",
     "output_type": "stream",
     "text": [
      "c:\\Users\\tanryan\\AppData\\Local\\anaconda3\\envs\\felixcheck\\Lib\\site-packages\\ema_workbench\\connectors\\__init__.py:29: ImportWarning: netlogo connector not available\n",
      "  warnings.warn(\"netlogo connector not available\", ImportWarning)\n",
      "c:\\Users\\tanryan\\AppData\\Local\\anaconda3\\envs\\felixcheck\\Lib\\site-packages\\ema_workbench\\connectors\\__init__.py:34: ImportWarning: simio connector not available\n",
      "  warnings.warn(\"simio connector not available\", ImportWarning)\n"
     ]
    }
   ],
   "source": [
    "import sys\n",
    "import warnings\n",
    "import numpy as np\n",
    "import time\n",
    "from ema_workbench.connectors.vensim import VensimModel\n",
    "from ema_workbench.connectors.pysd_connector import PysdModel\n",
    "from ema_workbench import (MultiprocessingEvaluator,\n",
    "                           TimeSeriesOutcome, \n",
    "                           perform_experiments,\n",
    "                           RealParameter,\n",
    "                           Constant, \n",
    "                           Samplers,\n",
    "                           ema_logging, \n",
    "                           save_results)\n",
    "from ema_workbench import load_results\n",
    "from ema_workbench.em_framework.salib_samplers import get_SALib_problem\n",
    "from SALib.analyze import sobol\n",
    "import numpy as np\n",
    "import pandas as pd\n",
    "from pathlib import Path"
   ]
  },
  {
   "cell_type": "markdown",
   "metadata": {},
   "source": [
    "## Testing Ema's connectors with Vensim Files"
   ]
  },
  {
   "cell_type": "code",
   "execution_count": 2,
   "metadata": {},
   "outputs": [
    {
     "ename": "NameError",
     "evalue": "name 'PysdModel' is not defined",
     "output_type": "error",
     "traceback": [
      "\u001b[1;31m---------------------------------------------------------------------------\u001b[0m",
      "\u001b[1;31mNameError\u001b[0m                                 Traceback (most recent call last)",
      "Cell \u001b[1;32mIn[2], line 7\u001b[0m\n\u001b[0;32m      1\u001b[0m \u001b[38;5;66;03m#Testing v25 with Ema's vensim connectors\u001b[39;00m\n\u001b[0;32m      2\u001b[0m \u001b[38;5;66;03m#directory = 'TestVensimFiles'\u001b[39;00m\n\u001b[0;32m      3\u001b[0m \u001b[38;5;66;03m#vensim_model = VensimModel(\"FelixVPMX\", wd=directory, model_file=r'FeliX3_YoGL_v25.vpmx')\u001b[39;00m\n\u001b[0;32m      4\u001b[0m \n\u001b[0;32m      5\u001b[0m \u001b[38;5;66;03m#Testing v25 with Ema's pysd connectors\u001b[39;00m\n\u001b[0;32m      6\u001b[0m mdl_file \u001b[38;5;241m=\u001b[39m \u001b[38;5;124m'\u001b[39m\u001b[38;5;124m./TestVensimFiles/FeliX3_YoGL_v25.mdl\u001b[39m\u001b[38;5;124m'\u001b[39m\n\u001b[1;32m----> 7\u001b[0m pysd_model \u001b[38;5;241m=\u001b[39m \u001b[43mPysdModel\u001b[49m(\u001b[38;5;124m\"\u001b[39m\u001b[38;5;124mFelixPYSD\u001b[39m\u001b[38;5;124m\"\u001b[39m, mdl_file\u001b[38;5;241m=\u001b[39mmdl_file)\n",
      "\u001b[1;31mNameError\u001b[0m: name 'PysdModel' is not defined"
     ]
    }
   ],
   "source": [
    "#Testing v25 with Ema's vensim connectors\n",
    "#directory = 'TestVensimFiles'\n",
    "#vensim_model = VensimModel(\"FelixVPMX\", wd=directory, model_file=r'FeliX3_YoGL_v25.vpmx')\n",
    "\n",
    "#Testing v25 with Ema's pysd connectors\n",
    "mdl_file = './TestVensimFiles/FeliX3_YoGL_v25.mdl'\n",
    "pysd_model = PysdModel(\"FelixPYSD\", mdl_file=mdl_file)"
   ]
  },
  {
   "cell_type": "markdown",
   "metadata": {},
   "source": [
    "## VENSIM DLL CONNECTOR TEST\n",
    "- Failed to connect to DLL. Something to do with administrator rights maybe or Vensim DSS version. But worked before for Sibel so not sure why there's issues."
   ]
  },
  {
   "cell_type": "code",
   "execution_count": 4,
   "metadata": {},
   "outputs": [
    {
     "ename": "NameError",
     "evalue": "name 'TimeSeriesOutcome' is not defined",
     "output_type": "error",
     "traceback": [
      "\u001b[1;31m---------------------------------------------------------------------------\u001b[0m",
      "\u001b[1;31mNameError\u001b[0m                                 Traceback (most recent call last)",
      "Cell \u001b[1;32mIn[4], line 2\u001b[0m\n\u001b[0;32m      1\u001b[0m \u001b[38;5;66;03m# Define Parameters\u001b[39;00m\n\u001b[1;32m----> 2\u001b[0m vensim_model\u001b[38;5;241m.\u001b[39moutcomes \u001b[38;5;241m=\u001b[39m [\u001b[43mTimeSeriesOutcome\u001b[49m(\u001b[38;5;124m\"\u001b[39m\u001b[38;5;124mShift from meat-based to vegetarian\u001b[39m\u001b[38;5;124m\"\u001b[39m)] \u001b[38;5;66;03m# specify outcomes\u001b[39;00m\n\u001b[0;32m      3\u001b[0m vensim_model\u001b[38;5;241m.\u001b[39muncertainties \u001b[38;5;241m=\u001b[39m [RealParameter(\u001b[38;5;124m\"\u001b[39m\u001b[38;5;124mResponse Efficacy Multiplier NoEd Variation\u001b[39m\u001b[38;5;124m\"\u001b[39m, \u001b[38;5;241m0\u001b[39m , \u001b[38;5;241m2\u001b[39m)] \u001b[38;5;66;03m# specify your uncertainties\u001b[39;00m\n\u001b[0;32m      5\u001b[0m \u001b[38;5;66;03m# Define Run Parameters\u001b[39;00m\n",
      "\u001b[1;31mNameError\u001b[0m: name 'TimeSeriesOutcome' is not defined"
     ]
    }
   ],
   "source": [
    "# Define Parameters\n",
    "vensim_model.outcomes = [TimeSeriesOutcome(\"Shift from meat-based to vegetarian\")] # specify outcomes\n",
    "vensim_model.uncertainties = [RealParameter(\"Response Efficacy Multiplier NoEd Variation\", 0 , 2)] # specify your uncertainties\n",
    "\n",
    "# Define Run Parameters\n",
    "n = 10 # number of runs \n",
    "\n",
    "ema_logging.log_to_stderr(ema_logging.INFO)\n",
    "with MultiprocessingEvaluator(vensim_model, n_processes=7) as evaluator:\n",
    "    results = evaluator.perform_experiments(n, uncertainty_sampling=Samplers.SOBOL, reporting_interval=5)\n",
    "\n",
    "fn = './test_n{}.tar.gz'.format(n)\n",
    "save_results(results, fn)"
   ]
  },
  {
   "cell_type": "markdown",
   "metadata": {},
   "source": [
    "## PYSD CONNECTOR TEST\n",
    "- Issues with PySD File (not a single run works). Will open a different ipynb to debug the incompatibilities"
   ]
  },
  {
   "cell_type": "code",
   "execution_count": null,
   "metadata": {},
   "outputs": [
    {
     "name": "stderr",
     "output_type": "stream",
     "text": [
      "[MainProcess/INFO] pool started with 7 workers\n",
      "c:\\Users\\tanryan\\AppData\\Local\\anaconda3\\envs\\felixcheck\\Lib\\site-packages\\scipy\\stats\\_qmc.py:993: UserWarning: The balance properties of Sobol' points require n to be a power of 2.\n",
      "  sample = self._random(n, workers=workers)\n",
      "[MainProcess/INFO] performing 40 scenarios * 1 policies * 1 model(s) = 40 experiments\n",
      "  0%|                                                   | 0/40 [00:00<?, ?it/s]"
     ]
    }
   ],
   "source": [
    "# Define Parameters\n",
    "pysd_model.outcomes = [TimeSeriesOutcome(\"Shift from meat-based to vegetarian\")] # specify outcomes\n",
    "pysd_model.uncertainties = [RealParameter(\"Response Efficacy Multiplier NoEd Variation\", 0 , 2)] # specify your uncertainties\n",
    "\n",
    "# Define Run Parameters\n",
    "n = 10 # number of runs \n",
    "\n",
    "ema_logging.log_to_stderr(ema_logging.INFO)\n",
    "with MultiprocessingEvaluator(pysd_model, n_processes=7) as evaluator:\n",
    "    results = evaluator.perform_experiments(n, uncertainty_sampling=Samplers.SOBOL, reporting_interval=5)\n",
    "\n",
    "fn = './test_n{}.tar.gz'.format(n)\n",
    "save_results(results, fn)"
   ]
  },
  {
   "cell_type": "code",
   "execution_count": 11,
   "metadata": {},
   "outputs": [
    {
     "ename": "NameError",
     "evalue": "name 'outcomes' is not defined",
     "output_type": "error",
     "traceback": [
      "\u001b[1;31m---------------------------------------------------------------------------\u001b[0m",
      "\u001b[1;31mNameError\u001b[0m                                 Traceback (most recent call last)",
      "Cell \u001b[1;32mIn[11], line 4\u001b[0m\n\u001b[0;32m      2\u001b[0m problem \u001b[38;5;241m=\u001b[39m get_SALib_problem(vensim_model\u001b[38;5;241m.\u001b[39muncertainties)\n\u001b[0;32m      3\u001b[0m outcome \u001b[38;5;241m=\u001b[39m \u001b[38;5;124m'\u001b[39m\u001b[38;5;124mShift from meat-based to vegetarian\u001b[39m\u001b[38;5;124m'\u001b[39m\n\u001b[1;32m----> 4\u001b[0m Si \u001b[38;5;241m=\u001b[39m sobol\u001b[38;5;241m.\u001b[39manalyze(problem, \u001b[43moutcomes\u001b[49m[outcome_var], print_to_console\u001b[38;5;241m=\u001b[39m\u001b[38;5;28;01mFalse\u001b[39;00m)\n\u001b[0;32m      6\u001b[0m \u001b[38;5;66;03m# Process Dataframe: Filter S1+ST\u001b[39;00m\n\u001b[0;32m      7\u001b[0m Si_filter_s1_st \u001b[38;5;241m=\u001b[39m {k:Si[k] \u001b[38;5;28;01mfor\u001b[39;00m k \u001b[38;5;129;01min\u001b[39;00m [\u001b[38;5;124m'\u001b[39m\u001b[38;5;124mST\u001b[39m\u001b[38;5;124m'\u001b[39m,\u001b[38;5;124m'\u001b[39m\u001b[38;5;124mST_conf\u001b[39m\u001b[38;5;124m'\u001b[39m,\u001b[38;5;124m'\u001b[39m\u001b[38;5;124mS1\u001b[39m\u001b[38;5;124m'\u001b[39m,\u001b[38;5;124m'\u001b[39m\u001b[38;5;124mS1_conf\u001b[39m\u001b[38;5;124m'\u001b[39m]}\n",
      "\u001b[1;31mNameError\u001b[0m: name 'outcomes' is not defined"
     ]
    }
   ],
   "source": [
    "#calculate_sobol\n",
    "problem = get_SALib_problem(vensim_model.uncertainties)\n",
    "outcome = 'Shift from meat-based to vegetarian'\n",
    "Si = sobol.analyze(problem, outcomes[outcome_var], print_to_console=False)\n",
    "\n",
    "# Process Dataframe: Filter S1+ST\n",
    "Si_filter_s1_st = {k:Si[k] for k in ['ST','ST_conf','S1','S1_conf']}\n",
    "Si_df = pd.DataFrame(Si_filter_s1_st, index= problem['names'])"
   ]
  },
  {
   "cell_type": "markdown",
   "metadata": {},
   "source": []
  }
 ],
 "metadata": {
  "kernelspec": {
   "display_name": "felixcheck",
   "language": "python",
   "name": "python3"
  },
  "language_info": {
   "codemirror_mode": {
    "name": "ipython",
    "version": 3
   },
   "file_extension": ".py",
   "mimetype": "text/x-python",
   "name": "python",
   "nbconvert_exporter": "python",
   "pygments_lexer": "ipython3",
   "version": "3.12.9"
  }
 },
 "nbformat": 4,
 "nbformat_minor": 2
}
